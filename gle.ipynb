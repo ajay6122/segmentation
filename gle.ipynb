{
 "cells": [
  {
   "cell_type": "code",
   "execution_count": 2,
   "metadata": {},
   "outputs": [],
   "source": [
    "import cv2\n",
    "import numpy as np"
   ]
  },
  {
   "cell_type": "code",
   "execution_count": 24,
   "metadata": {},
   "outputs": [],
   "source": [
    "image = cv2.imread(\"001a/001a_0.png\")\n",
    "gray = cv2.cvtColor(image, cv2.COLOR_BGR2GRAY)\n",
    "\n",
    "kernel = np.array([[0, -1, 0],\n",
    "[-1, 5, -1],\n",
    "[0, -1, 0]])\n",
    "sharpened = cv2.filter2D(image, -1, kernel)\n"
   ]
  },
  {
   "cell_type": "code",
   "execution_count": 25,
   "metadata": {},
   "outputs": [],
   "source": [
    "cv2.imshow(\"Original Image\", image)\n",
    "cv2.imshow(\"Sharpened Image\", sharpened)\n",
    "cv2.waitKey(0)\n",
    "cv2.destroyAllWindows()"
   ]
  },
  {
   "cell_type": "code",
   "execution_count": 3,
   "metadata": {},
   "outputs": [
    {
     "name": "stdout",
     "output_type": "stream",
     "text": [
      "[INFO] OCR'ing with the following languages: ['en']\n",
      "[INFO] OCR'ing input image...\n",
      "[INFO] 0.5443: 8650\n",
      "[INFO] OCR'ing input image...\n",
      "[INFO] 0.4996: 1230\n",
      "[INFO] OCR'ing input image...\n",
      "[INFO] 0.1776: M\n",
      "[INFO] 0.1338: C\n"
     ]
    }
   ],
   "source": [
    "import cv2\n",
    "from easyocr import Reader\n",
    "import numpy as np\n",
    "\n",
    "def cleanup_text(text):\n",
    "    # Strip out non-ASCII text so we can draw the text on the image using OpenCV\n",
    "    return \"\".join([c if ord(c) < 128 else \"\" for c in text]).strip()\n",
    "\n",
    "# Input parameters\n",
    "langs = ['en']  # Specify the languages for OCR\n",
    "use_gpu = True  # Specify whether to use GPU (True or False)\n",
    "\n",
    "# Print OCR information\n",
    "print(\"[INFO] OCR'ing with the following languages: {}\".format(langs))\n",
    "\n",
    "for i in range(3):\n",
    "    # Load the input image from disk\n",
    "    filename = \"001a/001a\"\n",
    "    image_path = f'{filename}_{i}_alone.png'  # Specify the path to your image\n",
    "\n",
    "    image = cv2.imread(image_path)\n",
    "\n",
    "    # OCR the input image using EasyOCR\n",
    "    print(\"[INFO] OCR'ing input image...\")\n",
    "    reader = Reader(langs, gpu=use_gpu)\n",
    "    results = reader.readtext(image)\n",
    "\n",
    "    # Loop over the results\n",
    "    for (bbox, text, prob) in results:\n",
    "        # Display the OCR'd text and associated probability\n",
    "        print(\"[INFO] {:.4f}: {}\".format(prob, text))\n",
    "        \n",
    "        # Unpack the bounding box\n",
    "        (tl, tr, br, bl) = bbox\n",
    "        tl = (int(tl[0]), int(tl[1]))\n",
    "        tr = (int(tr[0]), int(tr[1]))\n",
    "        br = (int(br[0]), int(br[1]))\n",
    "        bl = (int(bl[0]), int(bl[1]))\n",
    "        \n",
    "        # Cleanup the text and draw the box surrounding the text along with the OCR'd text itself\n",
    "        text = cleanup_text(text)\n",
    "        cv2.rectangle(image, tl, br, (0, 255, 0), 2)\n",
    "        cv2.putText(image, text, (tl[0], tl[1] - 10),\n",
    "                    cv2.FONT_HERSHEY_SIMPLEX, 0.8, (0, 255, 0), 2)\n",
    "\n",
    "        # Optionally, save the output image with the annotations\n",
    "        output_image_path = f'easyOCRresults/{image_path}_ec.jpg'  # Specify the path to save the output image\n",
    "        cv2.imwrite(output_image_path, image)"
   ]
  },
  {
   "cell_type": "code",
   "execution_count": 6,
   "metadata": {},
   "outputs": [
    {
     "name": "stdout",
     "output_type": "stream",
     "text": [
      "[INFO] OCR'ing input image...\n"
     ]
    }
   ],
   "source": [
    "filename = \"imgs/001a.png\"\n",
    "# image_path = f'{filename}_{i}_alone.png'  # Specify the path to your image\n",
    "\n",
    "image = cv2.imread(filename)\n",
    "\n",
    "# OCR the input image using EasyOCR\n",
    "print(\"[INFO] OCR'ing input image...\")\n",
    "reader = Reader(langs, gpu=use_gpu)\n",
    "results = reader.readtext(image)"
   ]
  },
  {
   "cell_type": "code",
   "execution_count": 8,
   "metadata": {},
   "outputs": [
    {
     "data": {
      "text/plain": [
       "[([[226.37952054822776, -23.982486296368798],\n",
       "   [439.8912522256419, 90.4570726013674],\n",
       "   [391.62047945177227, 174.9824862963688],\n",
       "   [178.10874777435814, 59.5429273986326]],\n",
       "  '886597',\n",
       "  0.32566099410752697),\n",
       " ([[117.62243903013066, -3.0914300252777203],\n",
       "   [188.58733090837003, 52.607126364041854],\n",
       "   [31.37756096986933, 236.09143002527773],\n",
       "   [-38.58733090837004, 180.39287363595815]],\n",
       "  '8',\n",
       "  0.9512905743034175),\n",
       " ([[392.1914939927781, 177.04684833789122],\n",
       "   [447.1379928805152, 167.33449278427616],\n",
       "   [463.8085060072219, 276.9531516621088],\n",
       "   [408.8620071194848, 286.66550721572384]],\n",
       "  '0',\n",
       "  0.24471035393440843)]"
      ]
     },
     "execution_count": 8,
     "metadata": {},
     "output_type": "execute_result"
    }
   ],
   "source": [
    "results"
   ]
  }
 ],
 "metadata": {
  "kernelspec": {
   "display_name": "env",
   "language": "python",
   "name": "python3"
  },
  "language_info": {
   "codemirror_mode": {
    "name": "ipython",
    "version": 3
   },
   "file_extension": ".py",
   "mimetype": "text/x-python",
   "name": "python",
   "nbconvert_exporter": "python",
   "pygments_lexer": "ipython3",
   "version": "3.10.14"
  }
 },
 "nbformat": 4,
 "nbformat_minor": 2
}
